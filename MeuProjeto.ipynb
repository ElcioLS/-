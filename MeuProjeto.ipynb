{
  "nbformat": 4,
  "nbformat_minor": 0,
  "metadata": {
    "colab": {
      "provenance": [],
      "authorship_tag": "ABX9TyNQgekO5GkvOnKsBhtJI0YG",
      "include_colab_link": true
    },
    "kernelspec": {
      "name": "python3",
      "display_name": "Python 3"
    },
    "language_info": {
      "name": "python"
    }
  },
  "cells": [
    {
      "cell_type": "markdown",
      "metadata": {
        "id": "view-in-github",
        "colab_type": "text"
      },
      "source": [
        "<a href=\"https://colab.research.google.com/github/ElcioLS/-/blob/main/MeuProjeto.ipynb\" target=\"_parent\"><img src=\"https://colab.research.google.com/assets/colab-badge.svg\" alt=\"Open In Colab\"/></a>"
      ]
    },
    {
      "cell_type": "code",
      "execution_count": 1,
      "metadata": {
        "id": "hwQB8Ruchznu"
      },
      "outputs": [],
      "source": [
        "!pip install -U -q google-generativeai"
      ]
    },
    {
      "cell_type": "code",
      "source": [
        "#Importando e configurações iniciais\n",
        "import numpy as np\n",
        "import pandas as pd\n",
        "import google.generativeai as genai\n",
        "import json\n",
        "import base64\n",
        "import pathlib\n",
        "import pprint\n",
        "import requests\n",
        "import mimetypes\n",
        "from IPython.display import Markdown\n",
        "\n",
        "GOOGLE_API_KEY=\"MINHA-API-KEY\"\n",
        "genai.configure(api_key=GOOGLE_API_KEY)\n"
      ],
      "metadata": {
        "id": "y4kfXXWwh1w6"
      },
      "execution_count": 17,
      "outputs": []
    },
    {
      "cell_type": "code",
      "source": [
        "for m in genai.list_models():\n",
        "  if 'embedContent' in m.supported_generation_methods:\n",
        "    print(m.name)\n",
        ""
      ],
      "metadata": {
        "colab": {
          "base_uri": "https://localhost:8080/",
          "height": 53
        },
        "id": "U_Mz18Cnh5YW",
        "outputId": "5d31a5e6-a2b2-41cf-b7f8-64fc331f3cc6"
      },
      "execution_count": 18,
      "outputs": [
        {
          "output_type": "stream",
          "name": "stdout",
          "text": [
            "models/embedding-001\n",
            "models/text-embedding-004\n"
          ]
        }
      ]
    },
    {
      "cell_type": "code",
      "source": [
        "#Exemplo de embedding\n",
        "title = \"MEI - Micro Empreendedor Individual \"\n",
        "sample_text = (\"Título: Como explorar todas as vantagens de ser um MEI?\"\n",
        "    \"\\n\"\n",
        "    \"Artigo completo:\\n\"\n",
        "    \"\\n\"\n",
        "    \"Gemini API & Google AI Studio: criando protótipos com aplicações de IA generativa\")\n",
        "\n",
        "embeddings = genai.embed_content(model=\"models/embedding-001\",\n",
        "                                 content=sample_text,\n",
        "                                 title=title,\n",
        "                                 task_type=\"RETRIEVAL_DOCUMENT\")\n",
        "\n",
        "print(embeddings)"
      ],
      "metadata": {
        "colab": {
          "base_uri": "https://localhost:8080/",
          "height": 55
        },
        "id": "7QUQo6sgiJuV",
        "outputId": "e35bcbba-57ae-4328-d07a-0b648cb96d1f"
      },
      "execution_count": 19,
      "outputs": [
        {
          "output_type": "stream",
          "name": "stdout",
          "text": [
            "{'embedding': [0.017758576, -0.053955946, 0.0013093012, 0.036171302, 0.059341162, -0.025739716, -0.009657333, -0.029286891, 0.010518639, 0.050384477, 0.026462901, -0.0050517744, -0.044508006, -0.039773446, 0.007715337, -0.041480456, 0.0035695778, -0.014912218, -0.029072288, -0.01817566, -0.00013521979, 0.010987845, -0.011001773, -0.08271141, -0.0028186128, -0.004591134, 0.04060882, -0.019904794, -0.052036524, 0.0671398, -0.030169569, 0.08642837, -0.056533374, 1.2496568e-05, -0.008844312, -0.070232145, -0.025860457, -0.06090794, -0.011180182, -0.011044321, 0.031824235, -0.06659675, -0.030993793, -0.04457461, -0.02085497, -0.015928244, 0.003402003, 0.0568879, 0.017268829, -0.06391901, 0.009537342, 0.024515076, 0.11398441, -0.050870556, 0.011233928, -0.0073407306, 0.060066972, -0.043252017, -0.018615544, 0.009927312, 0.011681839, 0.0054578385, 6.455116e-05, 0.04244284, -0.016074216, -0.04458489, -0.029380254, 0.019495737, 0.027488764, -0.00624809, -0.006110017, 0.0057576634, 0.06284281, -0.019226693, -0.03241502, -0.08603162, -0.034801126, 0.035654582, -0.0059022694, 0.021091653, 0.0049800538, -0.08515295, -0.051302426, -0.051746733, -0.048733387, 0.024749018, -0.048488848, -0.037410542, 0.050413914, -0.005460639, 0.0048189866, -0.07769183, 0.04576174, -0.039744053, -0.021109993, 0.08603897, -0.074766204, -0.039644975, -0.02665748, -0.05161925, -0.022756891, -0.012658991, -0.0647301, -0.028773652, 0.021371463, 0.03402119, -0.0155066205, 0.008207441, -0.04977627, 0.061832592, -0.054813556, -0.013986934, 0.043953594, -0.017164763, 0.054926503, -0.029360332, 0.023420177, 0.07240125, 0.00716208, 0.036120404, 0.03871919, 0.034939516, 0.046648514, -0.009411441, -0.023280747, 0.034784615, -0.0157513, -0.0035214047, 0.06507611, 0.035963483, 0.0050597684, 0.002261444, -0.01193878, 0.035403322, 0.05560729, 0.0472302, 0.048294358, -0.0013054368, 0.021118255, 0.0010244983, -0.0040239566, 0.039827753, 0.00951484, 0.021896573, -0.01817573, 0.057542153, -0.07287683, -0.011058106, 0.039338574, 0.008304613, -0.043350905, 0.024623804, -0.06973515, 0.012769825, 0.052045707, 0.034497976, -0.041419324, 0.042234197, 0.0567298, 0.011919715, 0.04489392, -0.0020367336, -0.004326835, 0.015104753, -0.06900548, -0.04529712, -0.036095336, 0.035799786, 0.023168463, 0.026309578, 0.015449086, 0.03850995, -0.052528694, -0.077432826, -0.016778888, -0.039483167, 0.008673588, -0.011553257, -0.040113732, 0.011560718, -0.030962335, -0.03217112, -0.0019622764, 0.05100325, 0.03938833, -0.030868413, 0.069550745, -0.013984483, -0.055462483, 0.011571238, 0.021539956, -0.011492554, 0.00027475788, 9.5438096e-05, -0.04809215, 0.04813576, 0.0062163183, 0.036385953, 0.005156299, -0.021241065, -0.025973028, 0.04156388, 0.023040008, -0.0001476173, -0.012873862, 0.009625752, 0.021402366, 0.00816222, -0.051836584, 0.045082983, -0.028900603, -0.013483111, -0.010808571, -0.0022576887, 0.023231607, 0.010245106, -0.021156134, 0.0124726035, -0.034901094, -0.045529284, -0.016979175, -0.0089135915, -0.01944524, -0.006189696, -0.04051152, 0.058452304, -0.04442475, 0.022330273, 0.009468818, -0.04949463, -0.00615759, 0.03856114, 0.044182155, 0.03431344, 0.04322575, 0.035073023, 0.030647263, 0.04240907, 0.060923364, 0.048461627, -0.036146395, 0.053347744, 0.023904834, 0.0154934665, -0.005335924, -0.004376861, -0.022739004, 0.042827267, 0.0070420047, 0.055376638, 0.0023241558, -0.05357919, -0.054336388, 0.039347462, -0.0020423448, -0.017843537, -0.04101841, -0.027725818, 0.076479085, -0.0037316158, 0.063979074, -0.06788752, 0.023484223, -0.0044623856, -0.007228869, -0.01651372, -0.009738887, -0.011881085, -0.0154663, 0.056122597, -0.005574248, -0.04158216, 0.041659914, 0.050458483, 0.0060414886, 0.014975598, -0.013286107, 0.040471822, 0.040965647, -0.043804727, 0.0047339015, 0.028340025, 0.03743618, -0.08911426, -0.081313714, 0.00054761727, 0.011360396, -0.04557338, -0.018912757, -0.058163572, -0.04104475, 0.049498755, 0.0151723875, -0.019170577, -0.061067287, 0.050188687, 0.0025697602, 0.048384283, 0.045497853, -0.053673517, -0.003674823, -0.08114379, -0.027395293, -0.076297365, -0.010244947, -0.023340054, -0.03395781, -0.020928042, 0.019939845, 0.0680231, -0.021412065, -0.020178378, -0.013945681, -0.0077583427, 0.08278631, 0.0070066587, -0.0338063, 0.013118987, -0.0016225599, 0.039903257, -0.019302106, 0.022452189, -0.023323681, 0.023441488, -0.011966732, 0.025970273, -0.025755743, 0.0261474, 0.023238827, 0.024741452, 0.032167595, -0.001676899, -0.000538928, 0.014148908, 0.0558799, 0.0010470657, -0.015047395, -0.003565933, -0.018923588, -0.047533125, 0.004242401, -0.028951485, 0.0075821625, -0.03656644, 0.037764654, 0.016396152, -0.061161533, -0.040887594, 0.09457236, 0.029406523, -0.015106064, 0.08078363, -0.05310419, -0.007896902, -0.0127923675, -0.023360781, -0.007176145, 0.01379994, 0.058701355, 0.0055117975, -0.023982497, 0.045876894, -0.044302218, 0.005931062, 0.018365953, 0.017704958, -0.0004803202, -0.026803598, -0.0042260666, 0.0065558623, 0.017951114, 0.014160603, 0.03030728, -0.04859646, 0.030322252, -0.02153171, -0.006821673, -0.06877467, 0.025579402, 0.026135819, 0.020278364, -0.0590688, 0.055027045, 0.045331083, 0.006464836, -0.037103266, 0.0066157132, 0.054694463, -0.012416393, 0.044249974, 0.0068230894, -0.009964468, 0.086211115, 0.039739884, -0.0013355729, -0.02174181, 0.00954194, 0.003042361, 0.0151547445, -0.0018552704, -0.04094411, -0.010468064, -0.026837114, -0.061650146, 0.036932923, 0.0059287925, -0.023331385, -0.08164144, 0.0048415717, -0.030499533, 0.032021847, 0.019539341, 0.046140313, -0.086704396, -0.0706039, -0.010604863, 0.014837538, -0.015525467, -0.006287493, 0.0023641034, -0.0016273914, 0.0075224275, 0.007139391, -0.06680583, -0.06397716, -0.020949788, 0.03682401, -0.035119593, 0.025003154, 0.03931012, 0.0013480496, 0.008468989, 0.00020103868, -0.005521859, -0.02926116, -0.038549583, 0.020922989, 0.0070602894, -0.013755038, 0.0032310137, 0.03836993, -0.013605346, -0.015197054, -0.0026658932, -0.05221823, -0.058698732, 0.004248238, -0.034727592, 0.034316715, -0.044066492, 0.017687257, -0.047145307, -0.029917803, -0.061149392, -0.048791267, 0.03474422, 0.017423825, 0.035321303, -0.026656264, -0.009130444, -0.014017411, 0.0034164633, -0.010126985, -0.040658075, 0.055288307, 0.00795669, 0.003907562, 0.004086495, -0.0073017147, 0.06625669, 0.004213023, -0.046670657, 0.013340218, -0.030852351, 0.023551242, 3.4539917e-05, -0.07258417, 0.04278653, -0.058011577, -0.014634758, 0.0056615225, 0.012857213, -0.011947393, -0.02638906, -0.014550787, -0.032591373, 0.014734086, 0.0217362, 0.011205645, 0.0070588747, 0.017797844, 0.031849388, -0.04393828, -0.053313002, -0.018445345, 0.010091776, -0.030357089, 0.026724083, 0.048506856, 0.04360205, 0.004078485, -0.004639294, 0.01771915, 0.0022772502, 0.053136993, -0.06909151, 0.018588617, -0.028468603, 0.010949133, -0.045307558, 0.004083357, -0.006874896, 0.023218598, -0.013947494, 0.089127, -0.05695225, -0.047098517, 0.028632775, 0.02265845, 0.021443194, 0.08857436, -0.0005796787, -0.06712669, 0.032529406, 0.021394556, -0.05349374, 0.0064402763, -0.013550268, -0.0039011387, 0.022361986, -0.0049260333, 0.044721086, -0.041553583, -0.021782456, 0.035173446, 0.03310684, 0.023274012, 0.017595787, -0.00955475, 0.027172936, -0.0107851615, -0.06684012, 0.062410824, -0.0024503672, -0.032625925, -0.014291206, -0.007784354, -0.06187945, 0.0080898795, -0.04776456, -0.005864336, 0.009773192, 0.0069823205, -0.00930092, 0.06470317, -0.04001509, -0.01559784, -0.0048096008, 0.03404202, 0.024460278, 0.03438852, -0.038521435, -0.0105016725, -0.023593076, 0.07498041, 0.010270521, -0.02535005, 0.016901612, 0.05655768, -0.011067121, -0.0014435216, 0.038157675, 0.0048893695, 0.033572003, 0.07066562, -0.047889147, -0.024425551, 0.007160688, -0.031399775, 0.014381959, 0.020239402, 0.017095476, 0.020371174, 0.016264485, -0.009548504, -0.005285591, 0.0037444765, 0.0429061, 0.053975992, 0.01103027, -0.10747938, 0.078284964, 0.013940429, -0.03203168, 0.02022564, -0.0037192984, 0.032952625, -0.012266848, 0.007991419, 0.025636854, -0.0038616888, -0.029698908, 0.06752167, 0.009052035, 0.008619428, -0.0064809998, -0.007509023, 0.014242133, 0.022240233, -0.004630507, 0.02859504, -0.08266329, 0.032156527, -0.062305186, -0.03813763, 0.0088289445, 0.028899461, 0.029333962, -0.06200074, -0.011544253, 0.029522773, -0.001749495, 0.0044496744, 0.034010492, 0.071824074, -0.009823697, -0.050660323, -0.012889334, 0.039633702, 0.038787335, 0.034910727, 0.05347132, 0.006699638, -0.03254754, -0.06803914, 0.014495562, 0.021907168, 0.038209375, 0.007420092, -0.0074077835, -0.053900138, 0.0036799815, 0.005569171, -0.028750325, -0.012630025, 0.051810805, -0.0018071831, -0.08024241, -0.06975681, 0.022445789, -0.014565682, 0.03338569, 0.018951027, -0.031227475, 0.02748104, 0.0049919197, -0.050512627, -0.047695376, -0.020123944, -0.021211682, -0.08817709, 0.033098705, 0.011139347, -0.02126482, -0.055750784, -0.023152497, -0.015499593, -0.049047, -0.059580434, 0.017709121, -0.037446693, 0.05435228, 0.024713991, -0.03042612, 0.049278945, 0.010687952, -0.036941543, 0.024403648, 0.020249518, -0.000683043, -0.019950908, -0.0105358325, -0.029095171, 0.01410528, -0.027384888, 0.039265875, 0.03087522, 0.02738491, -0.0070604975, 0.008926417, -0.002288328, -0.005350092, -0.038269743, -0.014577847, -0.014683284, -0.01399372, -0.0015328738, -0.072564155, 0.052093375, -0.0030080434, -0.017294722, -0.04642379, 0.009849474, -0.009031795, 0.009813816, -0.011426542, -0.025887616, 0.0140321925, -0.0046379245, 0.018469542, 0.019895166, -0.029818844, -0.059993736, 0.01247323, -0.047482602, -0.00973291, -0.038860604, 0.0035373883, -0.012385335, 0.036034267, 0.018045966, -0.026522981, 0.037843704, -0.062508605, -0.042379737, 0.011750321, -0.024872107, 0.031973276, -0.030560529, -0.048118427, 0.05989179, -0.024112558, -0.04424319, 0.03764429, -0.02824955, 0.06355691, -0.03939006, 0.031560555, -0.007858087, -0.054104265, -0.01785881, -0.044695374, 0.0056202426, 0.04887513, -0.011725943, -0.010848884, -0.002075769, -0.013472948, -0.043924417, -0.07512936, -0.042933255, -0.0044704955, 0.0283672, 0.040099945, -0.003319442, -0.026337286, 0.0119845895, -0.044535786, 0.010467498, 0.008532024, -0.059179403, -0.02962386, 0.013342768, -0.03233093, -0.0050506704, 0.042865705, -0.03860597, 0.009384905]}\n"
          ]
        }
      ]
    },
    {
      "cell_type": "code",
      "source": [
        "\n",
        "# Modelo de embedding\n",
        "model = \"models/embedding-001\"\n",
        "\n",
        "# Informações sobre MEI\n",
        "DOCUMENT1 = {\n",
        "    \"Nome\": \"Limite de Faturamento MEI\",\n",
        "    \"Descricao\": \"O limite de faturamento anual para um MEI em 2023 é de R$ 81.000. Se você ultrapassar esse limite, precisará se desenquadrar do MEI e optar por outro regime tributário.\"\n",
        "}\n",
        "\n",
        "DOCUMENT2 = {\n",
        "    \"Nome\": \"Declaração Anual MEI (DASN-SIMEI)\",\n",
        "    \"Descricao\": \"Todo MEI precisa entregar a Declaração Anual do Simples Nacional (DASN-SIMEI) até o dia 31 de maio de cada ano. Essa declaração informa à Receita Federal o seu faturamento anual.\"\n",
        "}\n",
        "\n",
        "DOCUMENT3 = {\n",
        "    \"Nome\": \"Crédito para MEI\",\n",
        "    \"Descricao\": \"Existem diversas linhas de crédito disponíveis para MEI, como microcrédito, empréstimos para capital de giro e financiamentos para compra de equipamentos. Consulte o Sebrae ou instituições financeiras para conhecer as opções.\"\n",
        "}\n",
        "\n",
        "DOCUMENT4 = {\n",
        "    \"Nome\": \"Treinamento e Capacitação para MEI\",\n",
        "    \"Descricao\": \"O Sebrae oferece diversos cursos e workshops gratuitos para MEI em áreas como gestão financeira, marketing, vendas e planejamento. Aproveite essas oportunidades para desenvolver suas habilidades empresariais.\"\n",
        "}\n",
        "\n",
        "DOCUMENT5 = {\n",
        "    \"Nome\": \"Compra de Veículos para MEI\",\n",
        "    \"Descricao\": \"Alguns programas de financiamento oferecem condições especiais para a compra de veículos para MEI, como taxas de juros mais baixas e prazos de pagamento mais longos.\"\n",
        "}\n",
        "\n",
        "DOCUMENT6 = {\n",
        "    \"Nome\": \"Reforma da Empresa para MEI\",\n",
        "    \"Descricao\": \"É possível utilizar linhas de crédito específicas para reformar ou ampliar o seu espaço físico, como o programa de microcrédito do BNDES.\"\n",
        "}\n",
        "\n",
        "# Crie uma lista de documentos\n",
        "documents = [DOCUMENT1, DOCUMENT2, DOCUMENT3, DOCUMENT4, DOCUMENT5, DOCUMENT6]\n",
        "\n",
        "# Crie um DataFrame a partir da lista de documentos\n",
        "df = pd.DataFrame(documents)\n",
        "\n",
        "# Função para gerar embeddings\n",
        "def embed_fn(title, text):\n",
        "    return genai.embed_content(model=model,\n",
        "                              content=text,\n",
        "                              title=title,\n",
        "                              task_type=\"RETRIEVAL_DOCUMENT\")[\"embedding\"]\n",
        "\n",
        "# Gere embeddings para cada documento\n",
        "df[\"Embeddings\"] = df.apply(lambda row: embed_fn(row[\"Nome\"], row[\"Descricao\"]), axis=1)\n",
        "\n",
        "# Função para gerar e buscar consulta\n",
        "def gerar_e_buscar_consulta(consulta, base, model):\n",
        "    embedding_da_consulta = genai.embed_content(model=model,\n",
        "                                              content=consulta,\n",
        "                                              task_type=\"RETRIEVAL_QUERY\")[\"embedding\"]\n",
        "    produtos_escalares = np.dot(np.stack(df[\"Embeddings\"]), embedding_da_consulta)\n",
        "\n",
        "    indice = np.argmax(produtos_escalares)\n",
        "    return df.iloc[indice][\"Descricao\"]\n",
        "\n",
        "# Configuração de geração de texto\n",
        "generation_config = {\n",
        "    \"temperature\": 0.7, # Ajuste para controlar a criatividade das respostas\n",
        "    \"candidate_count\": 1\n",
        "}\n",
        "\n",
        "# Modelo para geração de texto\n",
        "model_2 = genai.GenerativeModel(\"gemini-1.0-pro\", generation_config=generation_config)\n",
        "\n",
        "# Loop principal do chatbot\n",
        "while True:\n",
        "    consulta = input(\"Olá! Sou seu assistente contábil para MEI. O que você gostaria de saber? \")\n",
        "\n",
        "    if consulta.lower() == \"sair\":\n",
        "        break\n",
        "\n",
        "    trecho = gerar_e_buscar_consulta(consulta, df, model)\n",
        "\n",
        "    # Prompt para o modelo de linguagem\n",
        "    prompt = f\"Responda a seguinte pergunta de um MEI em um tom amigável e informativo: {consulta}. Use a seguinte informação na sua resposta: {trecho}\"\n",
        "\n",
        "    # Gere a resposta\n",
        "    response = model_2.generate_content(prompt)\n",
        "    print(response.text)"
      ],
      "metadata": {
        "colab": {
          "base_uri": "https://localhost:8080/",
          "height": 771
        },
        "id": "91Ybg-VekOTZ",
        "outputId": "06bfe0de-dbe5-40be-e3a4-7a14dc300e66"
      },
      "execution_count": null,
      "outputs": [
        {
          "output_type": "stream",
          "name": "stdout",
          "text": [
            "Olá! Sou seu assistente contábil para MEI. O que você gostaria de saber? como abrir uma empresa\n",
            "Olá, empreendedor! Seja muito bem-vindo ao mundo dos MEIs!\n",
            "\n",
            "Abrir uma empresa pode parecer um desafio, mas com as orientações certas, pode ser um processo tranquilo. Aqui estão alguns passos para ajudá-lo:\n",
            "\n",
            "1. **Escolha seu nome empresarial:** Ele deve ser único e fácil de lembrar.\n",
            "2. **Defina seu ramo de atividade:** Escolha o CNAE (Código Nacional de Atividades Econômicas) que melhor descreve o que você faz.\n",
            "3. **Formalize sua empresa:** Faça o registro no Portal do Empreendedor.\n",
            "4. **Obtenha o CNPJ:** É o número de identificação da sua empresa.\n",
            "5. **Inscreva-se no MEI:** Faça a inscrição no Portal do Simples Nacional.\n",
            "\n",
            "Além disso, não deixe de aproveitar os cursos e workshops gratuitos oferecidos pelo Sebrae para MEIs. Eles são uma ótima oportunidade para você desenvolver suas habilidades empresariais e ter sucesso no seu negócio.\n",
            "\n",
            "Se precisar de mais informações, não hesite em entrar em contato com o Sebrae. Eles estão prontos para ajudá-lo em todas as etapas da sua jornada empreendedora.\n",
            "Olá! Sou seu assistente contábil para MEI. O que você gostaria de saber? como posso pegar 30mil reais emprestado como MEI?\n",
            "Claro, aqui estão algumas maneiras pelas quais você pode pegar 30 mil reais emprestados como MEI:\n",
            "\n",
            "**Instituições financeiras:**\n",
            "\n",
            "* Bancos e cooperativas de crédito oferecem linhas de crédito específicas para MEIs, como microcrédito e empréstimos para capital de giro.\n",
            "* Os requisitos e taxas de juros variam dependendo da instituição, então é importante pesquisar e comparar opções.\n",
            "\n",
            "**Sebrae:**\n",
            "\n",
            "* O Sebrae oferece programas de microcrédito para MEIs com taxas de juros reduzidas.\n",
            "* Eles também fornecem orientação e apoio para ajudá-lo a gerenciar seu empréstimo.\n",
            "\n",
            "**Outras opções:**\n",
            "\n",
            "* **Financiamentos para compra de equipamentos:** Se você precisar de equipamentos para sua empresa, poderá encontrar financiamentos específicos para esse fim.\n",
            "* **Cartão de crédito empresarial:** Embora as taxas de juros possam ser mais altas, os cartões de crédito empresariais podem ser uma opção conveniente para empréstimos de curto prazo.\n",
            "\n",
            "**Dicas:**\n",
            "\n",
            "* Antes de solicitar um empréstimo, certifique-se de ter um plano de negócios sólido e um histórico financeiro positivo.\n",
            "* Compare as taxas de juros e termos de empréstimos de diferentes instituições.\n",
            "* Leia atentamente os termos do empréstimo antes de assinar.\n",
            "* Use o empréstimo com sabedoria e gerencie-o com responsabilidade.\n",
            "\n",
            "Não hesite em entrar em contato com o Sebrae ou instituições financeiras para obter mais informações e orientação sobre as opções de empréstimo disponíveis para MEIs.\n"
          ]
        }
      ]
    },
    {
      "cell_type": "code",
      "source": [],
      "metadata": {
        "id": "Qqs1DFvJnEkf"
      },
      "execution_count": null,
      "outputs": []
    }
  ]
}