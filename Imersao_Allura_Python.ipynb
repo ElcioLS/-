{
  "nbformat": 4,
  "nbformat_minor": 0,
  "metadata": {
    "colab": {
      "provenance": [],
      "authorship_tag": "ABX9TyNsej8Sx0+k2XMeiGJekjyH",
      "include_colab_link": true
    },
    "kernelspec": {
      "name": "python3",
      "display_name": "Python 3"
    },
    "language_info": {
      "name": "python"
    }
  },
  "cells": [
    {
      "cell_type": "markdown",
      "metadata": {
        "id": "view-in-github",
        "colab_type": "text"
      },
      "source": [
        "<a href=\"https://colab.research.google.com/github/ElcioLS/-/blob/main/Imersao_Allura_Python.ipynb\" target=\"_parent\"><img src=\"https://colab.research.google.com/assets/colab-badge.svg\" alt=\"Open In Colab\"/></a>"
      ]
    },
    {
      "cell_type": "code",
      "execution_count": 56,
      "metadata": {
        "colab": {
          "base_uri": "https://localhost:8080/"
        },
        "id": "xO9VJcHyHhma",
        "outputId": "baf5b80e-0169-4866-ec59-6ffceadcbf4b"
      },
      "outputs": [
        {
          "output_type": "execute_result",
          "data": {
            "text/plain": [
              "{'palavra': 'python',\n",
              " 'dica': 'automatizar tarefas e desenvolver aplicações web.'}"
            ]
          },
          "metadata": {},
          "execution_count": 56
        }
      ],
      "source": [
        "import requests\n",
        "import random\n",
        "\n",
        "url = 'https://raw.githubusercontent.com/guilhermeonrails/api-imersao-ia/main/words.json'\n",
        "response = requests.get(url)\n",
        "data = response.json()\n",
        "len(data)\n",
        "data[0]\n",
        "\n"
      ]
    },
    {
      "cell_type": "code",
      "source": [
        "valor_secreto = random.choice(data)\n",
        "palavra_secreta = valor_secreto['palavra']\n",
        "dica = valor_secreto['dica']\n",
        "print(f'A palavra secreta tem {len(palavra_secreta)} letras -> {dica}')\n",
        "\n"
      ],
      "metadata": {
        "colab": {
          "base_uri": "https://localhost:8080/"
        },
        "id": "1uXoAGn3KIvO",
        "outputId": "dc7108ec-c4c4-4c44-b00e-d5e47bcbdd65"
      },
      "execution_count": 57,
      "outputs": [
        {
          "output_type": "stream",
          "name": "stdout",
          "text": [
            "A palavra secreta tem 4 letras -> criar aplicativos de servidor escaláveis e de alta performance.\n"
          ]
        }
      ]
    },
    {
      "cell_type": "code",
      "source": [
        "chute = input(f'A palavra secreta tem {len(palavra_secreta)} letras -> {dica}')\n",
        "if chute == palavra_secreta:\n",
        "  print('Parabéns - Você acertou!')\n",
        "else:\n",
        "  print(f'Errou seu burro! era pra ter escrito: {palavra_secreta}')\n"
      ],
      "metadata": {
        "colab": {
          "base_uri": "https://localhost:8080/"
        },
        "id": "EZ3nvopKVdWa",
        "outputId": "bef0cb4c-782f-4a1c-8ec0-0cdb61a70c94"
      },
      "execution_count": 59,
      "outputs": [
        {
          "output_type": "stream",
          "name": "stdout",
          "text": [
            "A palavra secreta tem 4 letras -> criar aplicativos de servidor escaláveis e de alta performance.node\n",
            "Parabéns - Você acertou!\n"
          ]
        }
      ]
    },
    {
      "cell_type": "code",
      "source": [],
      "metadata": {
        "id": "0s9BugD3WH2x"
      },
      "execution_count": 42,
      "outputs": []
    }
  ]
}